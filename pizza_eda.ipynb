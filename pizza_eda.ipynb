{
  "cells": [
    {
      "cell_type": "code",
      "execution_count": null,
      "metadata": {
        "id": "9Ex2zK07huW7"
      },
      "outputs": [],
      "source": [
        "# All the life cycle in a datascience project\n",
        "# Data Analysis\n",
        "# Exploratory data analysis\n",
        "# Feature Engineering\n",
        "# Feature Selection\n",
        "# Model Building\n",
        "# Model Deployment"
      ]
    },
    {
      "cell_type": "code",
      "execution_count": null,
      "metadata": {
        "id": "C56XBqYXhzwh"
      },
      "outputs": [],
      "source": [
        "##Data Analysis Phase\n",
        "##Main aim is to understand the data\n",
        "import pandas as pd\n",
        "import numpy as np\n",
        "import seaborn as sns\n",
        "sns.set()\n",
        "import matplotlib.pyplot as plt\n",
        "import glob\n",
        "\n",
        "%matplotlib inline\n",
        "\n",
        "import os\n",
        "##Display all the columns of the dataframe\n",
        "pd.set_option('display.max_columns', None)"
      ]
    },
    {
      "cell_type": "code",
      "execution_count": null,
      "metadata": {
        "id": "7PBhls8Yh_W-",
        "colab": {
          "base_uri": "https://localhost:8080/"
        },
        "outputId": "a75a61d8-f8bd-4067-cf95-3c8603418529"
      },
      "outputs": [
        {
          "output_type": "stream",
          "name": "stdout",
          "text": [
            "Mounted at /content/drive/\n"
          ]
        }
      ],
      "source": [
        "from google.colab import drive\n",
        "drive.mount('/content/drive/')"
      ]
    },
    {
      "cell_type": "code",
      "execution_count": null,
      "metadata": {
        "id": "OQGbPVQ2zc-e"
      },
      "outputs": [],
      "source": [
        "# !unzip mangrove_data.zip"
      ]
    },
    {
      "cell_type": "code",
      "source": [
        "os.chdir(\"/content/drive/MyDrive/\")"
      ],
      "metadata": {
        "id": "Pa616SLJSMI2"
      },
      "execution_count": null,
      "outputs": []
    },
    {
      "cell_type": "code",
      "source": [
        "pizza_sales_df = pd.read_excel(\"Pizza Sales.xlsx\")\n",
        "pizza_sales_df.head()"
      ],
      "metadata": {
        "colab": {
          "base_uri": "https://localhost:8080/",
          "height": 434
        },
        "id": "BzN0XUYZaCCO",
        "outputId": "f8dfbbb7-2680-43f1-d9a7-94552486207b"
      },
      "execution_count": null,
      "outputs": [
        {
          "output_type": "execute_result",
          "data": {
            "text/plain": [
              "   order_details_id  order_id       pizza_id  quantity order_date order_time  \\\n",
              "0                 1         1     hawaiian_m         1 2015-01-01   11:38:36   \n",
              "1                 2         2  classic_dlx_m         1 2015-01-01   11:57:40   \n",
              "2                 3         2  five_cheese_l         1 2015-01-01   11:57:40   \n",
              "3                 4         2    ital_supr_l         1 2015-01-01   11:57:40   \n",
              "4                 5         2     mexicana_m         1 2015-01-01   11:57:40   \n",
              "\n",
              "   unit_price  total_price pizza_size pizza_category  \\\n",
              "0       13.25        13.25          M        Classic   \n",
              "1       16.00        16.00          M        Classic   \n",
              "2       18.50        18.50          L         Veggie   \n",
              "3       20.75        20.75          L        Supreme   \n",
              "4       16.00        16.00          M         Veggie   \n",
              "\n",
              "                                   pizza_ingredients  \\\n",
              "0           Sliced Ham, Pineapple, Mozzarella Cheese   \n",
              "1  Pepperoni, Mushrooms, Red Onions, Red Peppers,...   \n",
              "2  Mozzarella Cheese, Provolone Cheese, Smoked Go...   \n",
              "3  Calabrese Salami, Capocollo, Tomatoes, Red Oni...   \n",
              "4  Tomatoes, Red Peppers, Jalapeno Peppers, Red O...   \n",
              "\n",
              "                  pizza_name  \n",
              "0         The Hawaiian Pizza  \n",
              "1   The Classic Deluxe Pizza  \n",
              "2      The Five Cheese Pizza  \n",
              "3  The Italian Supreme Pizza  \n",
              "4         The Mexicana Pizza  "
            ],
            "text/html": [
              "\n",
              "  <div id=\"df-91db62ba-8bda-4f68-83df-6fc32e5f8603\" class=\"colab-df-container\">\n",
              "    <div>\n",
              "<style scoped>\n",
              "    .dataframe tbody tr th:only-of-type {\n",
              "        vertical-align: middle;\n",
              "    }\n",
              "\n",
              "    .dataframe tbody tr th {\n",
              "        vertical-align: top;\n",
              "    }\n",
              "\n",
              "    .dataframe thead th {\n",
              "        text-align: right;\n",
              "    }\n",
              "</style>\n",
              "<table border=\"1\" class=\"dataframe\">\n",
              "  <thead>\n",
              "    <tr style=\"text-align: right;\">\n",
              "      <th></th>\n",
              "      <th>order_details_id</th>\n",
              "      <th>order_id</th>\n",
              "      <th>pizza_id</th>\n",
              "      <th>quantity</th>\n",
              "      <th>order_date</th>\n",
              "      <th>order_time</th>\n",
              "      <th>unit_price</th>\n",
              "      <th>total_price</th>\n",
              "      <th>pizza_size</th>\n",
              "      <th>pizza_category</th>\n",
              "      <th>pizza_ingredients</th>\n",
              "      <th>pizza_name</th>\n",
              "    </tr>\n",
              "  </thead>\n",
              "  <tbody>\n",
              "    <tr>\n",
              "      <th>0</th>\n",
              "      <td>1</td>\n",
              "      <td>1</td>\n",
              "      <td>hawaiian_m</td>\n",
              "      <td>1</td>\n",
              "      <td>2015-01-01</td>\n",
              "      <td>11:38:36</td>\n",
              "      <td>13.25</td>\n",
              "      <td>13.25</td>\n",
              "      <td>M</td>\n",
              "      <td>Classic</td>\n",
              "      <td>Sliced Ham, Pineapple, Mozzarella Cheese</td>\n",
              "      <td>The Hawaiian Pizza</td>\n",
              "    </tr>\n",
              "    <tr>\n",
              "      <th>1</th>\n",
              "      <td>2</td>\n",
              "      <td>2</td>\n",
              "      <td>classic_dlx_m</td>\n",
              "      <td>1</td>\n",
              "      <td>2015-01-01</td>\n",
              "      <td>11:57:40</td>\n",
              "      <td>16.00</td>\n",
              "      <td>16.00</td>\n",
              "      <td>M</td>\n",
              "      <td>Classic</td>\n",
              "      <td>Pepperoni, Mushrooms, Red Onions, Red Peppers,...</td>\n",
              "      <td>The Classic Deluxe Pizza</td>\n",
              "    </tr>\n",
              "    <tr>\n",
              "      <th>2</th>\n",
              "      <td>3</td>\n",
              "      <td>2</td>\n",
              "      <td>five_cheese_l</td>\n",
              "      <td>1</td>\n",
              "      <td>2015-01-01</td>\n",
              "      <td>11:57:40</td>\n",
              "      <td>18.50</td>\n",
              "      <td>18.50</td>\n",
              "      <td>L</td>\n",
              "      <td>Veggie</td>\n",
              "      <td>Mozzarella Cheese, Provolone Cheese, Smoked Go...</td>\n",
              "      <td>The Five Cheese Pizza</td>\n",
              "    </tr>\n",
              "    <tr>\n",
              "      <th>3</th>\n",
              "      <td>4</td>\n",
              "      <td>2</td>\n",
              "      <td>ital_supr_l</td>\n",
              "      <td>1</td>\n",
              "      <td>2015-01-01</td>\n",
              "      <td>11:57:40</td>\n",
              "      <td>20.75</td>\n",
              "      <td>20.75</td>\n",
              "      <td>L</td>\n",
              "      <td>Supreme</td>\n",
              "      <td>Calabrese Salami, Capocollo, Tomatoes, Red Oni...</td>\n",
              "      <td>The Italian Supreme Pizza</td>\n",
              "    </tr>\n",
              "    <tr>\n",
              "      <th>4</th>\n",
              "      <td>5</td>\n",
              "      <td>2</td>\n",
              "      <td>mexicana_m</td>\n",
              "      <td>1</td>\n",
              "      <td>2015-01-01</td>\n",
              "      <td>11:57:40</td>\n",
              "      <td>16.00</td>\n",
              "      <td>16.00</td>\n",
              "      <td>M</td>\n",
              "      <td>Veggie</td>\n",
              "      <td>Tomatoes, Red Peppers, Jalapeno Peppers, Red O...</td>\n",
              "      <td>The Mexicana Pizza</td>\n",
              "    </tr>\n",
              "  </tbody>\n",
              "</table>\n",
              "</div>\n",
              "    <div class=\"colab-df-buttons\">\n",
              "\n",
              "  <div class=\"colab-df-container\">\n",
              "    <button class=\"colab-df-convert\" onclick=\"convertToInteractive('df-91db62ba-8bda-4f68-83df-6fc32e5f8603')\"\n",
              "            title=\"Convert this dataframe to an interactive table.\"\n",
              "            style=\"display:none;\">\n",
              "\n",
              "  <svg xmlns=\"http://www.w3.org/2000/svg\" height=\"24px\" viewBox=\"0 -960 960 960\">\n",
              "    <path d=\"M120-120v-720h720v720H120Zm60-500h600v-160H180v160Zm220 220h160v-160H400v160Zm0 220h160v-160H400v160ZM180-400h160v-160H180v160Zm440 0h160v-160H620v160ZM180-180h160v-160H180v160Zm440 0h160v-160H620v160Z\"/>\n",
              "  </svg>\n",
              "    </button>\n",
              "\n",
              "  <style>\n",
              "    .colab-df-container {\n",
              "      display:flex;\n",
              "      gap: 12px;\n",
              "    }\n",
              "\n",
              "    .colab-df-convert {\n",
              "      background-color: #E8F0FE;\n",
              "      border: none;\n",
              "      border-radius: 50%;\n",
              "      cursor: pointer;\n",
              "      display: none;\n",
              "      fill: #1967D2;\n",
              "      height: 32px;\n",
              "      padding: 0 0 0 0;\n",
              "      width: 32px;\n",
              "    }\n",
              "\n",
              "    .colab-df-convert:hover {\n",
              "      background-color: #E2EBFA;\n",
              "      box-shadow: 0px 1px 2px rgba(60, 64, 67, 0.3), 0px 1px 3px 1px rgba(60, 64, 67, 0.15);\n",
              "      fill: #174EA6;\n",
              "    }\n",
              "\n",
              "    .colab-df-buttons div {\n",
              "      margin-bottom: 4px;\n",
              "    }\n",
              "\n",
              "    [theme=dark] .colab-df-convert {\n",
              "      background-color: #3B4455;\n",
              "      fill: #D2E3FC;\n",
              "    }\n",
              "\n",
              "    [theme=dark] .colab-df-convert:hover {\n",
              "      background-color: #434B5C;\n",
              "      box-shadow: 0px 1px 3px 1px rgba(0, 0, 0, 0.15);\n",
              "      filter: drop-shadow(0px 1px 2px rgba(0, 0, 0, 0.3));\n",
              "      fill: #FFFFFF;\n",
              "    }\n",
              "  </style>\n",
              "\n",
              "    <script>\n",
              "      const buttonEl =\n",
              "        document.querySelector('#df-91db62ba-8bda-4f68-83df-6fc32e5f8603 button.colab-df-convert');\n",
              "      buttonEl.style.display =\n",
              "        google.colab.kernel.accessAllowed ? 'block' : 'none';\n",
              "\n",
              "      async function convertToInteractive(key) {\n",
              "        const element = document.querySelector('#df-91db62ba-8bda-4f68-83df-6fc32e5f8603');\n",
              "        const dataTable =\n",
              "          await google.colab.kernel.invokeFunction('convertToInteractive',\n",
              "                                                    [key], {});\n",
              "        if (!dataTable) return;\n",
              "\n",
              "        const docLinkHtml = 'Like what you see? Visit the ' +\n",
              "          '<a target=\"_blank\" href=https://colab.research.google.com/notebooks/data_table.ipynb>data table notebook</a>'\n",
              "          + ' to learn more about interactive tables.';\n",
              "        element.innerHTML = '';\n",
              "        dataTable['output_type'] = 'display_data';\n",
              "        await google.colab.output.renderOutput(dataTable, element);\n",
              "        const docLink = document.createElement('div');\n",
              "        docLink.innerHTML = docLinkHtml;\n",
              "        element.appendChild(docLink);\n",
              "      }\n",
              "    </script>\n",
              "  </div>\n",
              "\n",
              "\n",
              "<div id=\"df-77abbf3a-8fdf-4d40-be10-decd3968e30d\">\n",
              "  <button class=\"colab-df-quickchart\" onclick=\"quickchart('df-77abbf3a-8fdf-4d40-be10-decd3968e30d')\"\n",
              "            title=\"Suggest charts\"\n",
              "            style=\"display:none;\">\n",
              "\n",
              "<svg xmlns=\"http://www.w3.org/2000/svg\" height=\"24px\"viewBox=\"0 0 24 24\"\n",
              "     width=\"24px\">\n",
              "    <g>\n",
              "        <path d=\"M19 3H5c-1.1 0-2 .9-2 2v14c0 1.1.9 2 2 2h14c1.1 0 2-.9 2-2V5c0-1.1-.9-2-2-2zM9 17H7v-7h2v7zm4 0h-2V7h2v10zm4 0h-2v-4h2v4z\"/>\n",
              "    </g>\n",
              "</svg>\n",
              "  </button>\n",
              "\n",
              "<style>\n",
              "  .colab-df-quickchart {\n",
              "      --bg-color: #E8F0FE;\n",
              "      --fill-color: #1967D2;\n",
              "      --hover-bg-color: #E2EBFA;\n",
              "      --hover-fill-color: #174EA6;\n",
              "      --disabled-fill-color: #AAA;\n",
              "      --disabled-bg-color: #DDD;\n",
              "  }\n",
              "\n",
              "  [theme=dark] .colab-df-quickchart {\n",
              "      --bg-color: #3B4455;\n",
              "      --fill-color: #D2E3FC;\n",
              "      --hover-bg-color: #434B5C;\n",
              "      --hover-fill-color: #FFFFFF;\n",
              "      --disabled-bg-color: #3B4455;\n",
              "      --disabled-fill-color: #666;\n",
              "  }\n",
              "\n",
              "  .colab-df-quickchart {\n",
              "    background-color: var(--bg-color);\n",
              "    border: none;\n",
              "    border-radius: 50%;\n",
              "    cursor: pointer;\n",
              "    display: none;\n",
              "    fill: var(--fill-color);\n",
              "    height: 32px;\n",
              "    padding: 0;\n",
              "    width: 32px;\n",
              "  }\n",
              "\n",
              "  .colab-df-quickchart:hover {\n",
              "    background-color: var(--hover-bg-color);\n",
              "    box-shadow: 0 1px 2px rgba(60, 64, 67, 0.3), 0 1px 3px 1px rgba(60, 64, 67, 0.15);\n",
              "    fill: var(--button-hover-fill-color);\n",
              "  }\n",
              "\n",
              "  .colab-df-quickchart-complete:disabled,\n",
              "  .colab-df-quickchart-complete:disabled:hover {\n",
              "    background-color: var(--disabled-bg-color);\n",
              "    fill: var(--disabled-fill-color);\n",
              "    box-shadow: none;\n",
              "  }\n",
              "\n",
              "  .colab-df-spinner {\n",
              "    border: 2px solid var(--fill-color);\n",
              "    border-color: transparent;\n",
              "    border-bottom-color: var(--fill-color);\n",
              "    animation:\n",
              "      spin 1s steps(1) infinite;\n",
              "  }\n",
              "\n",
              "  @keyframes spin {\n",
              "    0% {\n",
              "      border-color: transparent;\n",
              "      border-bottom-color: var(--fill-color);\n",
              "      border-left-color: var(--fill-color);\n",
              "    }\n",
              "    20% {\n",
              "      border-color: transparent;\n",
              "      border-left-color: var(--fill-color);\n",
              "      border-top-color: var(--fill-color);\n",
              "    }\n",
              "    30% {\n",
              "      border-color: transparent;\n",
              "      border-left-color: var(--fill-color);\n",
              "      border-top-color: var(--fill-color);\n",
              "      border-right-color: var(--fill-color);\n",
              "    }\n",
              "    40% {\n",
              "      border-color: transparent;\n",
              "      border-right-color: var(--fill-color);\n",
              "      border-top-color: var(--fill-color);\n",
              "    }\n",
              "    60% {\n",
              "      border-color: transparent;\n",
              "      border-right-color: var(--fill-color);\n",
              "    }\n",
              "    80% {\n",
              "      border-color: transparent;\n",
              "      border-right-color: var(--fill-color);\n",
              "      border-bottom-color: var(--fill-color);\n",
              "    }\n",
              "    90% {\n",
              "      border-color: transparent;\n",
              "      border-bottom-color: var(--fill-color);\n",
              "    }\n",
              "  }\n",
              "</style>\n",
              "\n",
              "  <script>\n",
              "    async function quickchart(key) {\n",
              "      const quickchartButtonEl =\n",
              "        document.querySelector('#' + key + ' button');\n",
              "      quickchartButtonEl.disabled = true;  // To prevent multiple clicks.\n",
              "      quickchartButtonEl.classList.add('colab-df-spinner');\n",
              "      try {\n",
              "        const charts = await google.colab.kernel.invokeFunction(\n",
              "            'suggestCharts', [key], {});\n",
              "      } catch (error) {\n",
              "        console.error('Error during call to suggestCharts:', error);\n",
              "      }\n",
              "      quickchartButtonEl.classList.remove('colab-df-spinner');\n",
              "      quickchartButtonEl.classList.add('colab-df-quickchart-complete');\n",
              "    }\n",
              "    (() => {\n",
              "      let quickchartButtonEl =\n",
              "        document.querySelector('#df-77abbf3a-8fdf-4d40-be10-decd3968e30d button');\n",
              "      quickchartButtonEl.style.display =\n",
              "        google.colab.kernel.accessAllowed ? 'block' : 'none';\n",
              "    })();\n",
              "  </script>\n",
              "</div>\n",
              "    </div>\n",
              "  </div>\n"
            ]
          },
          "metadata": {},
          "execution_count": 6
        }
      ]
    },
    {
      "cell_type": "code",
      "source": [
        "print(\"shape of pizza_sales_df:\", pizza_sales_df.shape)\n",
        "print(\"dataframe columns:\", pizza_sales_df.columns.to_list())"
      ],
      "metadata": {
        "colab": {
          "base_uri": "https://localhost:8080/"
        },
        "id": "hhLj1ZnnarFD",
        "outputId": "267bfcf3-3fc4-45a6-a587-99b6312cb208"
      },
      "execution_count": null,
      "outputs": [
        {
          "output_type": "stream",
          "name": "stdout",
          "text": [
            "shape of pizza_sales_df: (48620, 12)\n",
            "dataframe columns: ['order_details_id', 'order_id', 'pizza_id', 'quantity', 'order_date', 'order_time', 'unit_price', 'total_price', 'pizza_size', 'pizza_category', 'pizza_ingredients', 'pizza_name']\n"
          ]
        }
      ]
    },
    {
      "cell_type": "code",
      "source": [
        "pizza_sales_df.info()"
      ],
      "metadata": {
        "colab": {
          "base_uri": "https://localhost:8080/"
        },
        "id": "CeTMHdxPpe-2",
        "outputId": "a81e4b72-c7f2-4f26-cf17-2e93408505d2"
      },
      "execution_count": null,
      "outputs": [
        {
          "output_type": "stream",
          "name": "stdout",
          "text": [
            "<class 'pandas.core.frame.DataFrame'>\n",
            "RangeIndex: 48620 entries, 0 to 48619\n",
            "Data columns (total 12 columns):\n",
            " #   Column             Non-Null Count  Dtype         \n",
            "---  ------             --------------  -----         \n",
            " 0   order_details_id   48620 non-null  int64         \n",
            " 1   order_id           48620 non-null  int64         \n",
            " 2   pizza_id           48620 non-null  object        \n",
            " 3   quantity           48620 non-null  int64         \n",
            " 4   order_date         48620 non-null  datetime64[ns]\n",
            " 5   order_time         48620 non-null  object        \n",
            " 6   unit_price         48620 non-null  float64       \n",
            " 7   total_price        48620 non-null  float64       \n",
            " 8   pizza_size         48620 non-null  object        \n",
            " 9   pizza_category     48620 non-null  object        \n",
            " 10  pizza_ingredients  48620 non-null  object        \n",
            " 11  pizza_name         48620 non-null  object        \n",
            "dtypes: datetime64[ns](1), float64(2), int64(3), object(6)\n",
            "memory usage: 4.5+ MB\n"
          ]
        }
      ]
    },
    {
      "cell_type": "code",
      "source": [
        "#additional check for missing values\n",
        "pizza_sales_df.isnull().sum() #no missing values was detected"
      ],
      "metadata": {
        "colab": {
          "base_uri": "https://localhost:8080/"
        },
        "id": "0_rEpQqVay4L",
        "outputId": "190beea8-a655-4610-b78f-ef7e036db275"
      },
      "execution_count": 55,
      "outputs": [
        {
          "output_type": "execute_result",
          "data": {
            "text/plain": [
              "order_details_id     0\n",
              "order_id             0\n",
              "pizza_id             0\n",
              "quantity             0\n",
              "order_date           0\n",
              "order_time           0\n",
              "unit_price           0\n",
              "total_price          0\n",
              "pizza_size           0\n",
              "pizza_category       0\n",
              "pizza_ingredients    0\n",
              "pizza_name           0\n",
              "dtype: int64"
            ]
          },
          "metadata": {},
          "execution_count": 55
        }
      ]
    },
    {
      "cell_type": "code",
      "source": [
        "#check for duplicates\n",
        "duplicates = pizza_sales_df.duplicated()\n",
        "duplicate_rows = pizza_sales_df[duplicates]\n",
        "len(duplicate_rows) #no duplicate rows was detected\n",
        "# df_no_redundancy = df.drop_duplicates()\n"
      ],
      "metadata": {
        "colab": {
          "base_uri": "https://localhost:8080/"
        },
        "id": "C13iH5gwoytg",
        "outputId": "c37b6942-c881-4616-a0b9-2f1de1459e32"
      },
      "execution_count": null,
      "outputs": [
        {
          "output_type": "execute_result",
          "data": {
            "text/plain": [
              "0"
            ]
          },
          "metadata": {},
          "execution_count": 11
        }
      ]
    },
    {
      "cell_type": "markdown",
      "source": [
        "#Informations de base :\n",
        "## Combien de pizzas uniques (pizza_id distincts) y a-t-il dans le jeu dedonnées ?"
      ],
      "metadata": {
        "id": "SXcoelZTri5C"
      }
    },
    {
      "cell_type": "code",
      "source": [
        "# Number of unique pizzas\n",
        "unique_pizzas = pizza_sales_df['pizza_id'].nunique()\n",
        "print(\"Number of unique pizzas:\", unique_pizzas)# we have 91 unique pizzas comprising of various sizes, lets dig in and make sure there are no typos"
      ],
      "metadata": {
        "colab": {
          "base_uri": "https://localhost:8080/"
        },
        "id": "wEaCrHvNp6Aw",
        "outputId": "9a17f73a-1966-4c2f-e70b-f7de0f178f4b"
      },
      "execution_count": null,
      "outputs": [
        {
          "output_type": "stream",
          "name": "stdout",
          "text": [
            "Number of unique pizzas: 91\n"
          ]
        }
      ]
    },
    {
      "cell_type": "code",
      "source": [
        "pizza_unique_vc = pizza_sales_df[\"pizza_id\"].value_counts().sort_index()\n",
        "print(pizza_unique_vc.head()) #no typos or mispelling detected using head and tail for further exploration"
      ],
      "metadata": {
        "colab": {
          "base_uri": "https://localhost:8080/"
        },
        "id": "BV0lRAitr1K9",
        "outputId": "b02bf944-f4da-4d12-8b38-2714550aabb0"
      },
      "execution_count": null,
      "outputs": [
        {
          "output_type": "stream",
          "name": "stdout",
          "text": [
            "bbq_ckn_l        967\n",
            "bbq_ckn_m        926\n",
            "bbq_ckn_s        479\n",
            "big_meat_s      1811\n",
            "brie_carre_s     480\n",
            "Name: pizza_id, dtype: int64\n"
          ]
        }
      ]
    },
    {
      "cell_type": "code",
      "source": [
        "#no of unique pizza's without sizes\n",
        "#lets split up using the underscore delimiter(_)\n",
        "pizza_unique_vc_wid = pizza_sales_df[\"pizza_id\"].str.split(\"_\").str[:-1].str.join('_')"
      ],
      "metadata": {
        "id": "b8D8RJOcsnip"
      },
      "execution_count": null,
      "outputs": []
    },
    {
      "cell_type": "code",
      "source": [
        "pizza_unique_vc_wid.value_counts().sort_index()"
      ],
      "metadata": {
        "colab": {
          "base_uri": "https://localhost:8080/"
        },
        "id": "30cM9Vk2w7lo",
        "outputId": "4ac4bb06-2543-463f-f889-c81823330714"
      },
      "execution_count": null,
      "outputs": [
        {
          "output_type": "execute_result",
          "data": {
            "text/plain": [
              "bbq_ckn         2372\n",
              "big_meat        1811\n",
              "brie_carre       480\n",
              "calabrese        927\n",
              "cali_ckn        2302\n",
              "ckn_alfredo      980\n",
              "ckn_pesto        961\n",
              "classic_dlx     2416\n",
              "five_cheese     1359\n",
              "four_cheese     1850\n",
              "green_garden     987\n",
              "hawaiian        2370\n",
              "ital_cpcllo     1414\n",
              "ital_supr       1849\n",
              "ital_veggie      975\n",
              "mediterraneo     923\n",
              "mexicana        1456\n",
              "napolitana      1451\n",
              "pep_msh_pep     1342\n",
              "pepperoni       2369\n",
              "peppr_salami    1422\n",
              "prsc_argla      1428\n",
              "sicilian        1887\n",
              "soppressata      957\n",
              "southw_ckn      1885\n",
              "spicy_ital      1887\n",
              "spin_pesto       957\n",
              "spinach_fet     1432\n",
              "spinach_supr     940\n",
              "thai_ckn        2315\n",
              "the_greek       1406\n",
              "veggie_veg      1510\n",
              "Name: pizza_id, dtype: int64"
            ]
          },
          "metadata": {},
          "execution_count": 16
        }
      ]
    },
    {
      "cell_type": "code",
      "source": [
        "len(pizza_unique_vc_wid.unique()) # there are 32 unique pizza without the sizes been taken into consideration"
      ],
      "metadata": {
        "colab": {
          "base_uri": "https://localhost:8080/"
        },
        "id": "WM6H2RR4va_d",
        "outputId": "6d313f67-3c56-4288-826c-f38d9d15c8d5"
      },
      "execution_count": null,
      "outputs": [
        {
          "output_type": "execute_result",
          "data": {
            "text/plain": [
              "32"
            ]
          },
          "metadata": {},
          "execution_count": 17
        }
      ]
    },
    {
      "cell_type": "markdown",
      "source": [
        "##b. Combien de commandes uniques (order_id distincts) figurent dans le jeude données ?"
      ],
      "metadata": {
        "id": "_EpnDLG6xtO7"
      }
    },
    {
      "cell_type": "code",
      "source": [
        "unique_orders = pizza_sales_df['order_id'].nunique()\n",
        "print(\"Number of unique orders:\", unique_orders)"
      ],
      "metadata": {
        "colab": {
          "base_uri": "https://localhost:8080/"
        },
        "id": "9jV2HGBAyIgT",
        "outputId": "8d92926f-ed5c-476d-c492-dcf0328d5b92"
      },
      "execution_count": null,
      "outputs": [
        {
          "output_type": "stream",
          "name": "stdout",
          "text": [
            "Number of unique orders: 21350\n"
          ]
        }
      ]
    },
    {
      "cell_type": "code",
      "source": [
        "# Discover the range of unique values\n",
        "min_value = pizza_sales_df['order_id'].min()\n",
        "max_value = pizza_sales_df['order_id'].max()\n",
        "\n",
        "# Print the range of unique values\n",
        "print(f\"Range of unique values: {min_value} to {max_value}\")"
      ],
      "metadata": {
        "colab": {
          "base_uri": "https://localhost:8080/"
        },
        "id": "85AwCjbByJgw",
        "outputId": "bcd71c8f-a002-40c4-a6f5-0aff3f1f9d6c"
      },
      "execution_count": null,
      "outputs": [
        {
          "output_type": "stream",
          "name": "stdout",
          "text": [
            "Range of unique values: 1 to 21350\n"
          ]
        }
      ]
    },
    {
      "cell_type": "markdown",
      "source": [
        "#3. Analyse temporelle :\n",
        "## a. Quelle est la plage de dates dans le jeu de données ?"
      ],
      "metadata": {
        "id": "rGLSAa-D7cGn"
      }
    },
    {
      "cell_type": "code",
      "source": [
        "min_order_date = pizza_sales_df['order_date'].min()\n",
        "max_order_date = pizza_sales_df['order_date'].max()\n",
        "\n",
        "print(\"Earliest order date:\", min_order_date)\n",
        "print(\"Latest order date:\", max_order_date)"
      ],
      "metadata": {
        "colab": {
          "base_uri": "https://localhost:8080/"
        },
        "id": "f5dEN10j7bxe",
        "outputId": "b9903cc8-7eff-4c3c-e1f0-d7f5189713ce"
      },
      "execution_count": null,
      "outputs": [
        {
          "output_type": "stream",
          "name": "stdout",
          "text": [
            "Earliest order date: 2015-01-01 00:00:00\n",
            "Latest order date: 2015-12-31 00:00:00\n"
          ]
        }
      ]
    },
    {
      "cell_type": "markdown",
      "source": [
        "## b. Combien de commandes ont été passées chaque jour ?\n"
      ],
      "metadata": {
        "id": "-Tq_UjEDQPXm"
      }
    },
    {
      "cell_type": "code",
      "source": [
        "# Counting the number of unique orders placed each day\n",
        "orders_per_day = pizza_sales_df.groupby('order_date')['order_id'].nunique()\n",
        "print(orders_per_day.head())"
      ],
      "metadata": {
        "colab": {
          "base_uri": "https://localhost:8080/"
        },
        "id": "lD1KR5DkPwHu",
        "outputId": "cd6eae28-37f8-48ec-e491-75750132dfed"
      },
      "execution_count": null,
      "outputs": [
        {
          "output_type": "stream",
          "name": "stdout",
          "text": [
            "order_date\n",
            "2015-01-01    69\n",
            "2015-01-02    67\n",
            "2015-01-03    66\n",
            "2015-01-04    52\n",
            "2015-01-05    54\n",
            "Name: order_id, dtype: int64\n"
          ]
        }
      ]
    },
    {
      "cell_type": "markdown",
      "source": [
        "##c. Quelle est la durée moyenne pour traiter une commande ?"
      ],
      "metadata": {
        "id": "VAFRtiHrRJkf"
      }
    },
    {
      "cell_type": "markdown",
      "source": [
        "###To calculate the average processing time for an order, we need to first determine the processing time for each order. However, it appears that the dataset does not directly provide the processing time or completion time for each order.\n",
        "\n",
        "###In order to calculate processing time, we typically need both the order placement time and the order completion time. If the dataset includes these timestamps, we can subtract the order placement time from the completion time to get the processing time for each order. With the current dataset, it's not possible to calculate the average processing time for an order."
      ],
      "metadata": {
        "id": "_a31fLq0RgQ9"
      }
    },
    {
      "cell_type": "markdown",
      "source": [],
      "metadata": {
        "id": "0UoQBwflR1fI"
      }
    },
    {
      "cell_type": "markdown",
      "source": [
        "#4. Analyse de la quantité :\n",
        "##a. Quelle est la quantité moyenne de pizzas commandées ?"
      ],
      "metadata": {
        "id": "ntScMby_R3U1"
      }
    },
    {
      "cell_type": "code",
      "source": [
        "# Calculating the average quantity of pizzas ordered\n",
        "average_pizza_quantity = pizza_sales_df['quantity'].mean()\n",
        "\n",
        "print(\"Average quantity of pizzas ordered per order:\", round(average_pizza_quantity),2)\n"
      ],
      "metadata": {
        "colab": {
          "base_uri": "https://localhost:8080/"
        },
        "id": "0g7rL4kXQqWt",
        "outputId": "cf6cbe15-0a74-482f-a251-a99c089e9a3e"
      },
      "execution_count": null,
      "outputs": [
        {
          "output_type": "stream",
          "name": "stdout",
          "text": [
            "Average quantity of pizzas ordered per order: 1 2\n"
          ]
        }
      ]
    },
    {
      "cell_type": "code",
      "source": [
        "# Finding the most frequently ordered pizza size\n",
        "most_frequent_pizza_size = pizza_sales_df['pizza_size'].mode()\n",
        "print(\"Most frequently ordered pizza size:\", most_frequent_pizza_size)\n",
        "\n",
        "#The most frequently ordered pizza size in the dataset is size 'L' (Large)."
      ],
      "metadata": {
        "colab": {
          "base_uri": "https://localhost:8080/"
        },
        "id": "zD4MLNPNSaWj",
        "outputId": "3ac7aa53-5a9a-45fd-f460-c49c78956092"
      },
      "execution_count": null,
      "outputs": [
        {
          "output_type": "stream",
          "name": "stdout",
          "text": [
            "Most frequently ordered pizza size: 0    L\n",
            "Name: pizza_size, dtype: object\n"
          ]
        }
      ]
    },
    {
      "cell_type": "code",
      "source": [
        "# Finding the most frequently ordered pizza category\n",
        "most_frequent_pizza_category = pizza_sales_df['pizza_category'].mode()[0]\n",
        "print(\"Most frequently ordered pizza category:\", most_frequent_pizza_category)\n"
      ],
      "metadata": {
        "colab": {
          "base_uri": "https://localhost:8080/"
        },
        "id": "haqoFvQUTO4U",
        "outputId": "19212e6e-08f3-48a6-8b89-b7bcf233814f"
      },
      "execution_count": null,
      "outputs": [
        {
          "output_type": "stream",
          "name": "stdout",
          "text": [
            "Most frequently ordered pizza category: Classic\n"
          ]
        }
      ]
    },
    {
      "cell_type": "markdown",
      "source": [
        "#5. Analyse des prix :\n",
        "##a. Quel est le prix unitaire moyen des pizzas ?"
      ],
      "metadata": {
        "id": "PhDueGE3UKTy"
      }
    },
    {
      "cell_type": "code",
      "source": [
        "# Calculating the average unit price of pizzas\n",
        "average_unit_price = pizza_sales_df['unit_price'].mean()\n",
        "average_unit_price_rounded = round(average_unit_price, 2)\n",
        "\n",
        "print(\"Average unit price of pizzas:\", average_unit_price_rounded)\n"
      ],
      "metadata": {
        "colab": {
          "base_uri": "https://localhost:8080/"
        },
        "id": "_epYdqr7T12X",
        "outputId": "beddc650-12ef-4aa9-ef32-f5e178f815f1"
      },
      "execution_count": null,
      "outputs": [
        {
          "output_type": "stream",
          "name": "stdout",
          "text": [
            "Average unit price of pizzas: 16.49\n"
          ]
        }
      ]
    },
    {
      "cell_type": "markdown",
      "source": [
        "##b. Quel est le prix total moyen d'une commande ?"
      ],
      "metadata": {
        "id": "ZHS4GNNPVmi4"
      }
    },
    {
      "cell_type": "code",
      "source": [
        "# Calculating the average total price per order\n",
        "# Summing the total prices for each order\n",
        "\n",
        "total_price_per_order = pizza_sales_df.groupby('order_id')['total_price'].sum()\n",
        "# Calculating the average of these total prices\n",
        "average_total_price_per_order = total_price_per_order.mean()\n",
        "average_total_price_per_order_rounded = round(average_total_price_per_order, 2)\n",
        "print(\"Average total price of an order:\", average_total_price_per_order_rounded)"
      ],
      "metadata": {
        "colab": {
          "base_uri": "https://localhost:8080/"
        },
        "id": "wzHQErP2T3bx",
        "outputId": "172d606c-240e-4eeb-b52e-fb2ebbbe6490"
      },
      "execution_count": null,
      "outputs": [
        {
          "output_type": "stream",
          "name": "stdout",
          "text": [
            "Average total price of an order: 38.31\n"
          ]
        }
      ]
    },
    {
      "cell_type": "markdown",
      "source": [
        "##c. Quelle pizza a le prix unitaire le plus élevé ?"
      ],
      "metadata": {
        "id": "NVGAZqanWluo"
      }
    },
    {
      "cell_type": "code",
      "source": [
        "# Finding the pizza(s) with the highest unit price\n",
        "highest_unit_price_pizza = pizza_sales_df[pizza_sales_df['unit_price'] == pizza_sales_df['unit_price'].max()]\n",
        "print(highest_unit_price_pizza[['pizza_name', 'unit_price']])\n"
      ],
      "metadata": {
        "id": "VCEO81UWVP-J"
      },
      "execution_count": null,
      "outputs": []
    },
    {
      "cell_type": "code",
      "source": [
        "# Finding a single instance of the pizza with the highest unit price\n",
        "highest_unit_price_pizza_single = highest_unit_price_pizza[['pizza_name', 'unit_price']].drop_duplicates().iloc[0]\n",
        "print(highest_unit_price_pizza_single)"
      ],
      "metadata": {
        "colab": {
          "base_uri": "https://localhost:8080/"
        },
        "id": "YyIoBhy2WYqd",
        "outputId": "ebd8d48a-920d-4e83-d8c1-2cee3e674335"
      },
      "execution_count": 56,
      "outputs": [
        {
          "output_type": "stream",
          "name": "stdout",
          "text": [
            "pizza_name    The Greek Pizza\n",
            "unit_price              35.95\n",
            "Name: 3447, dtype: object\n"
          ]
        }
      ]
    },
    {
      "cell_type": "markdown",
      "source": [
        "#6. Répartition par taille et catégorie :\n",
        "##a. Combien de pizzas de chaque taille ont été vendues ?"
      ],
      "metadata": {
        "id": "G87jM7J_YSo1"
      }
    },
    {
      "cell_type": "code",
      "source": [
        "# Counting the number of pizzas sold for each size\n",
        "pizzas_by_size = pizza_sales_df.groupby('pizza_size')['quantity'].sum()\n",
        "print(pizzas_by_size)\n"
      ],
      "metadata": {
        "colab": {
          "base_uri": "https://localhost:8080/"
        },
        "id": "koQPycZoYVu1",
        "outputId": "ce191a08-1d8b-4bea-c7d9-705cbf6072cc"
      },
      "execution_count": 59,
      "outputs": [
        {
          "output_type": "stream",
          "name": "stdout",
          "text": [
            "pizza_size\n",
            "L      18956\n",
            "M      15635\n",
            "S      14403\n",
            "XL       552\n",
            "XXL       28\n",
            "Name: quantity, dtype: int64\n"
          ]
        }
      ]
    },
    {
      "cell_type": "code",
      "source": [
        "pizzas_by_size"
      ],
      "metadata": {
        "colab": {
          "base_uri": "https://localhost:8080/"
        },
        "id": "qQue6g54Y2tP",
        "outputId": "3939ebef-2ad9-42d8-e91c-cd45ee1b2bb2"
      },
      "execution_count": 58,
      "outputs": [
        {
          "output_type": "execute_result",
          "data": {
            "text/plain": [
              "pizza_size\n",
              "L      18956\n",
              "M      15635\n",
              "S      14403\n",
              "XL       552\n",
              "XXL       28\n",
              "Name: quantity, dtype: int64"
            ]
          },
          "metadata": {},
          "execution_count": 58
        }
      ]
    },
    {
      "cell_type": "markdown",
      "source": [
        "##b. Combien de pizzas y a-t-il dans chaque catégorie ?"
      ],
      "metadata": {
        "id": "0FsFkdKrZe2a"
      }
    },
    {
      "cell_type": "code",
      "source": [
        "# Counting the number of pizzas in each category\n",
        "pizzas_by_category = pizza_sales_df.groupby('pizza_category')['quantity'].sum()\n",
        "print(pizzas_by_category)\n"
      ],
      "metadata": {
        "colab": {
          "base_uri": "https://localhost:8080/"
        },
        "id": "47AloYccY4Nq",
        "outputId": "417d8c01-321f-43d1-bd21-d1e25a499c28"
      },
      "execution_count": 62,
      "outputs": [
        {
          "output_type": "stream",
          "name": "stdout",
          "text": [
            "pizza_category\n",
            "Chicken    11050\n",
            "Classic    14888\n",
            "Supreme    11987\n",
            "Veggie     11649\n",
            "Name: quantity, dtype: int64\n"
          ]
        }
      ]
    },
    {
      "cell_type": "markdown",
      "source": [
        "#7. Analyse des ingrédients :\n",
        "##a. Quels sont les ingrédients les plus couramment utilisés dans toutes les pizzas ?"
      ],
      "metadata": {
        "id": "3WvkBrFAaKk1"
      }
    },
    {
      "cell_type": "code",
      "source": [],
      "metadata": {
        "id": "rADjOThbZzdA"
      },
      "execution_count": null,
      "outputs": []
    }
  ],
  "metadata": {
    "colab": {
      "provenance": [],
      "gpuType": "T4",
      "authorship_tag": "ABX9TyNEBad9/fsrXyRkzuW0oAEr"
    },
    "kernelspec": {
      "display_name": "Python 3",
      "name": "python3"
    },
    "language_info": {
      "name": "python"
    },
    "accelerator": "GPU"
  },
  "nbformat": 4,
  "nbformat_minor": 0
}