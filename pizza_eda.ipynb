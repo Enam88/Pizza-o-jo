{
  "cells": [
    {
      "cell_type": "code",
      "execution_count": null,
      "metadata": {
        "id": "9Ex2zK07huW7"
      },
      "outputs": [],
      "source": [
        "# All the life cycle in a datascience project\n",
        "# Data Analysis\n",
        "# Exploratory data analysis\n",
        "# Feature Engineering\n",
        "# Feature Selection\n",
        "# Model Building\n",
        "# Model Deployment"
      ]
    },
    {
      "cell_type": "code",
      "execution_count": 32,
      "metadata": {
        "id": "C56XBqYXhzwh"
      },
      "outputs": [],
      "source": [
        "##Data Analysis Phase\n",
        "##Main aim is to understand the data\n",
        "import pandas as pd\n",
        "import numpy as np\n",
        "import seaborn as sns\n",
        "sns.set()\n",
        "import matplotlib.pyplot as plt\n",
        "import glob\n",
        "\n",
        "%matplotlib inline\n",
        "\n",
        "import os\n",
        "##Display all the columns of the dataframe\n",
        "pd.set_option('display.max_columns', None)"
      ]
    },
    {
      "cell_type": "code",
      "execution_count": 3,
      "metadata": {
        "id": "7PBhls8Yh_W-",
        "colab": {
          "base_uri": "https://localhost:8080/"
        },
        "outputId": "52938891-bbde-4789-b704-433666c98611"
      },
      "outputs": [
        {
          "output_type": "stream",
          "name": "stdout",
          "text": [
            "Mounted at /content/drive/\n"
          ]
        }
      ],
      "source": [
        "from google.colab import drive\n",
        "drive.mount('/content/drive/')"
      ]
    },
    {
      "cell_type": "code",
      "execution_count": null,
      "metadata": {
        "id": "OQGbPVQ2zc-e"
      },
      "outputs": [],
      "source": [
        "# !unzip mangrove_data.zip"
      ]
    },
    {
      "cell_type": "code",
      "source": [
        "os.chdir(\"/content/drive/MyDrive/\")"
      ],
      "metadata": {
        "id": "Pa616SLJSMI2"
      },
      "execution_count": 4,
      "outputs": []
    },
    {
      "cell_type": "code",
      "source": [
        "df = pd.read_excel(\"Pizza Sales.xlsx\")\n",
        "df.head()"
      ],
      "metadata": {
        "colab": {
          "base_uri": "https://localhost:8080/",
          "height": 293
        },
        "id": "BzN0XUYZaCCO",
        "outputId": "c1ad83dc-0fcc-40c3-eb01-e387a48e0161"
      },
      "execution_count": 77,
      "outputs": [
        {
          "output_type": "execute_result",
          "data": {
            "text/plain": [
              "   order_details_id  order_id       pizza_id  quantity order_date order_time  \\\n",
              "0                 1         1     hawaiian_m         1 2015-01-01   11:38:36   \n",
              "1                 2         2  classic_dlx_m         1 2015-01-01   11:57:40   \n",
              "2                 3         2  five_cheese_l         1 2015-01-01   11:57:40   \n",
              "3                 4         2    ital_supr_l         1 2015-01-01   11:57:40   \n",
              "4                 5         2     mexicana_m         1 2015-01-01   11:57:40   \n",
              "\n",
              "   unit_price  total_price pizza_size pizza_category  \\\n",
              "0       13.25        13.25          M        Classic   \n",
              "1       16.00        16.00          M        Classic   \n",
              "2       18.50        18.50          L         Veggie   \n",
              "3       20.75        20.75          L        Supreme   \n",
              "4       16.00        16.00          M         Veggie   \n",
              "\n",
              "                                   pizza_ingredients  \\\n",
              "0           Sliced Ham, Pineapple, Mozzarella Cheese   \n",
              "1  Pepperoni, Mushrooms, Red Onions, Red Peppers,...   \n",
              "2  Mozzarella Cheese, Provolone Cheese, Smoked Go...   \n",
              "3  Calabrese Salami, Capocollo, Tomatoes, Red Oni...   \n",
              "4  Tomatoes, Red Peppers, Jalapeno Peppers, Red O...   \n",
              "\n",
              "                  pizza_name  \n",
              "0         The Hawaiian Pizza  \n",
              "1   The Classic Deluxe Pizza  \n",
              "2      The Five Cheese Pizza  \n",
              "3  The Italian Supreme Pizza  \n",
              "4         The Mexicana Pizza  "
            ],
            "text/html": [
              "\n",
              "  <div id=\"df-702e339b-ab24-4fc7-ac60-7b460ddaf8f3\" class=\"colab-df-container\">\n",
              "    <div>\n",
              "<style scoped>\n",
              "    .dataframe tbody tr th:only-of-type {\n",
              "        vertical-align: middle;\n",
              "    }\n",
              "\n",
              "    .dataframe tbody tr th {\n",
              "        vertical-align: top;\n",
              "    }\n",
              "\n",
              "    .dataframe thead th {\n",
              "        text-align: right;\n",
              "    }\n",
              "</style>\n",
              "<table border=\"1\" class=\"dataframe\">\n",
              "  <thead>\n",
              "    <tr style=\"text-align: right;\">\n",
              "      <th></th>\n",
              "      <th>order_details_id</th>\n",
              "      <th>order_id</th>\n",
              "      <th>pizza_id</th>\n",
              "      <th>quantity</th>\n",
              "      <th>order_date</th>\n",
              "      <th>order_time</th>\n",
              "      <th>unit_price</th>\n",
              "      <th>total_price</th>\n",
              "      <th>pizza_size</th>\n",
              "      <th>pizza_category</th>\n",
              "      <th>pizza_ingredients</th>\n",
              "      <th>pizza_name</th>\n",
              "    </tr>\n",
              "  </thead>\n",
              "  <tbody>\n",
              "    <tr>\n",
              "      <th>0</th>\n",
              "      <td>1</td>\n",
              "      <td>1</td>\n",
              "      <td>hawaiian_m</td>\n",
              "      <td>1</td>\n",
              "      <td>2015-01-01</td>\n",
              "      <td>11:38:36</td>\n",
              "      <td>13.25</td>\n",
              "      <td>13.25</td>\n",
              "      <td>M</td>\n",
              "      <td>Classic</td>\n",
              "      <td>Sliced Ham, Pineapple, Mozzarella Cheese</td>\n",
              "      <td>The Hawaiian Pizza</td>\n",
              "    </tr>\n",
              "    <tr>\n",
              "      <th>1</th>\n",
              "      <td>2</td>\n",
              "      <td>2</td>\n",
              "      <td>classic_dlx_m</td>\n",
              "      <td>1</td>\n",
              "      <td>2015-01-01</td>\n",
              "      <td>11:57:40</td>\n",
              "      <td>16.00</td>\n",
              "      <td>16.00</td>\n",
              "      <td>M</td>\n",
              "      <td>Classic</td>\n",
              "      <td>Pepperoni, Mushrooms, Red Onions, Red Peppers,...</td>\n",
              "      <td>The Classic Deluxe Pizza</td>\n",
              "    </tr>\n",
              "    <tr>\n",
              "      <th>2</th>\n",
              "      <td>3</td>\n",
              "      <td>2</td>\n",
              "      <td>five_cheese_l</td>\n",
              "      <td>1</td>\n",
              "      <td>2015-01-01</td>\n",
              "      <td>11:57:40</td>\n",
              "      <td>18.50</td>\n",
              "      <td>18.50</td>\n",
              "      <td>L</td>\n",
              "      <td>Veggie</td>\n",
              "      <td>Mozzarella Cheese, Provolone Cheese, Smoked Go...</td>\n",
              "      <td>The Five Cheese Pizza</td>\n",
              "    </tr>\n",
              "    <tr>\n",
              "      <th>3</th>\n",
              "      <td>4</td>\n",
              "      <td>2</td>\n",
              "      <td>ital_supr_l</td>\n",
              "      <td>1</td>\n",
              "      <td>2015-01-01</td>\n",
              "      <td>11:57:40</td>\n",
              "      <td>20.75</td>\n",
              "      <td>20.75</td>\n",
              "      <td>L</td>\n",
              "      <td>Supreme</td>\n",
              "      <td>Calabrese Salami, Capocollo, Tomatoes, Red Oni...</td>\n",
              "      <td>The Italian Supreme Pizza</td>\n",
              "    </tr>\n",
              "    <tr>\n",
              "      <th>4</th>\n",
              "      <td>5</td>\n",
              "      <td>2</td>\n",
              "      <td>mexicana_m</td>\n",
              "      <td>1</td>\n",
              "      <td>2015-01-01</td>\n",
              "      <td>11:57:40</td>\n",
              "      <td>16.00</td>\n",
              "      <td>16.00</td>\n",
              "      <td>M</td>\n",
              "      <td>Veggie</td>\n",
              "      <td>Tomatoes, Red Peppers, Jalapeno Peppers, Red O...</td>\n",
              "      <td>The Mexicana Pizza</td>\n",
              "    </tr>\n",
              "  </tbody>\n",
              "</table>\n",
              "</div>\n",
              "    <div class=\"colab-df-buttons\">\n",
              "\n",
              "  <div class=\"colab-df-container\">\n",
              "    <button class=\"colab-df-convert\" onclick=\"convertToInteractive('df-702e339b-ab24-4fc7-ac60-7b460ddaf8f3')\"\n",
              "            title=\"Convert this dataframe to an interactive table.\"\n",
              "            style=\"display:none;\">\n",
              "\n",
              "  <svg xmlns=\"http://www.w3.org/2000/svg\" height=\"24px\" viewBox=\"0 -960 960 960\">\n",
              "    <path d=\"M120-120v-720h720v720H120Zm60-500h600v-160H180v160Zm220 220h160v-160H400v160Zm0 220h160v-160H400v160ZM180-400h160v-160H180v160Zm440 0h160v-160H620v160ZM180-180h160v-160H180v160Zm440 0h160v-160H620v160Z\"/>\n",
              "  </svg>\n",
              "    </button>\n",
              "\n",
              "  <style>\n",
              "    .colab-df-container {\n",
              "      display:flex;\n",
              "      gap: 12px;\n",
              "    }\n",
              "\n",
              "    .colab-df-convert {\n",
              "      background-color: #E8F0FE;\n",
              "      border: none;\n",
              "      border-radius: 50%;\n",
              "      cursor: pointer;\n",
              "      display: none;\n",
              "      fill: #1967D2;\n",
              "      height: 32px;\n",
              "      padding: 0 0 0 0;\n",
              "      width: 32px;\n",
              "    }\n",
              "\n",
              "    .colab-df-convert:hover {\n",
              "      background-color: #E2EBFA;\n",
              "      box-shadow: 0px 1px 2px rgba(60, 64, 67, 0.3), 0px 1px 3px 1px rgba(60, 64, 67, 0.15);\n",
              "      fill: #174EA6;\n",
              "    }\n",
              "\n",
              "    .colab-df-buttons div {\n",
              "      margin-bottom: 4px;\n",
              "    }\n",
              "\n",
              "    [theme=dark] .colab-df-convert {\n",
              "      background-color: #3B4455;\n",
              "      fill: #D2E3FC;\n",
              "    }\n",
              "\n",
              "    [theme=dark] .colab-df-convert:hover {\n",
              "      background-color: #434B5C;\n",
              "      box-shadow: 0px 1px 3px 1px rgba(0, 0, 0, 0.15);\n",
              "      filter: drop-shadow(0px 1px 2px rgba(0, 0, 0, 0.3));\n",
              "      fill: #FFFFFF;\n",
              "    }\n",
              "  </style>\n",
              "\n",
              "    <script>\n",
              "      const buttonEl =\n",
              "        document.querySelector('#df-702e339b-ab24-4fc7-ac60-7b460ddaf8f3 button.colab-df-convert');\n",
              "      buttonEl.style.display =\n",
              "        google.colab.kernel.accessAllowed ? 'block' : 'none';\n",
              "\n",
              "      async function convertToInteractive(key) {\n",
              "        const element = document.querySelector('#df-702e339b-ab24-4fc7-ac60-7b460ddaf8f3');\n",
              "        const dataTable =\n",
              "          await google.colab.kernel.invokeFunction('convertToInteractive',\n",
              "                                                    [key], {});\n",
              "        if (!dataTable) return;\n",
              "\n",
              "        const docLinkHtml = 'Like what you see? Visit the ' +\n",
              "          '<a target=\"_blank\" href=https://colab.research.google.com/notebooks/data_table.ipynb>data table notebook</a>'\n",
              "          + ' to learn more about interactive tables.';\n",
              "        element.innerHTML = '';\n",
              "        dataTable['output_type'] = 'display_data';\n",
              "        await google.colab.output.renderOutput(dataTable, element);\n",
              "        const docLink = document.createElement('div');\n",
              "        docLink.innerHTML = docLinkHtml;\n",
              "        element.appendChild(docLink);\n",
              "      }\n",
              "    </script>\n",
              "  </div>\n",
              "\n",
              "\n",
              "<div id=\"df-af95c095-a60f-4497-b483-6578c807854c\">\n",
              "  <button class=\"colab-df-quickchart\" onclick=\"quickchart('df-af95c095-a60f-4497-b483-6578c807854c')\"\n",
              "            title=\"Suggest charts\"\n",
              "            style=\"display:none;\">\n",
              "\n",
              "<svg xmlns=\"http://www.w3.org/2000/svg\" height=\"24px\"viewBox=\"0 0 24 24\"\n",
              "     width=\"24px\">\n",
              "    <g>\n",
              "        <path d=\"M19 3H5c-1.1 0-2 .9-2 2v14c0 1.1.9 2 2 2h14c1.1 0 2-.9 2-2V5c0-1.1-.9-2-2-2zM9 17H7v-7h2v7zm4 0h-2V7h2v10zm4 0h-2v-4h2v4z\"/>\n",
              "    </g>\n",
              "</svg>\n",
              "  </button>\n",
              "\n",
              "<style>\n",
              "  .colab-df-quickchart {\n",
              "      --bg-color: #E8F0FE;\n",
              "      --fill-color: #1967D2;\n",
              "      --hover-bg-color: #E2EBFA;\n",
              "      --hover-fill-color: #174EA6;\n",
              "      --disabled-fill-color: #AAA;\n",
              "      --disabled-bg-color: #DDD;\n",
              "  }\n",
              "\n",
              "  [theme=dark] .colab-df-quickchart {\n",
              "      --bg-color: #3B4455;\n",
              "      --fill-color: #D2E3FC;\n",
              "      --hover-bg-color: #434B5C;\n",
              "      --hover-fill-color: #FFFFFF;\n",
              "      --disabled-bg-color: #3B4455;\n",
              "      --disabled-fill-color: #666;\n",
              "  }\n",
              "\n",
              "  .colab-df-quickchart {\n",
              "    background-color: var(--bg-color);\n",
              "    border: none;\n",
              "    border-radius: 50%;\n",
              "    cursor: pointer;\n",
              "    display: none;\n",
              "    fill: var(--fill-color);\n",
              "    height: 32px;\n",
              "    padding: 0;\n",
              "    width: 32px;\n",
              "  }\n",
              "\n",
              "  .colab-df-quickchart:hover {\n",
              "    background-color: var(--hover-bg-color);\n",
              "    box-shadow: 0 1px 2px rgba(60, 64, 67, 0.3), 0 1px 3px 1px rgba(60, 64, 67, 0.15);\n",
              "    fill: var(--button-hover-fill-color);\n",
              "  }\n",
              "\n",
              "  .colab-df-quickchart-complete:disabled,\n",
              "  .colab-df-quickchart-complete:disabled:hover {\n",
              "    background-color: var(--disabled-bg-color);\n",
              "    fill: var(--disabled-fill-color);\n",
              "    box-shadow: none;\n",
              "  }\n",
              "\n",
              "  .colab-df-spinner {\n",
              "    border: 2px solid var(--fill-color);\n",
              "    border-color: transparent;\n",
              "    border-bottom-color: var(--fill-color);\n",
              "    animation:\n",
              "      spin 1s steps(1) infinite;\n",
              "  }\n",
              "\n",
              "  @keyframes spin {\n",
              "    0% {\n",
              "      border-color: transparent;\n",
              "      border-bottom-color: var(--fill-color);\n",
              "      border-left-color: var(--fill-color);\n",
              "    }\n",
              "    20% {\n",
              "      border-color: transparent;\n",
              "      border-left-color: var(--fill-color);\n",
              "      border-top-color: var(--fill-color);\n",
              "    }\n",
              "    30% {\n",
              "      border-color: transparent;\n",
              "      border-left-color: var(--fill-color);\n",
              "      border-top-color: var(--fill-color);\n",
              "      border-right-color: var(--fill-color);\n",
              "    }\n",
              "    40% {\n",
              "      border-color: transparent;\n",
              "      border-right-color: var(--fill-color);\n",
              "      border-top-color: var(--fill-color);\n",
              "    }\n",
              "    60% {\n",
              "      border-color: transparent;\n",
              "      border-right-color: var(--fill-color);\n",
              "    }\n",
              "    80% {\n",
              "      border-color: transparent;\n",
              "      border-right-color: var(--fill-color);\n",
              "      border-bottom-color: var(--fill-color);\n",
              "    }\n",
              "    90% {\n",
              "      border-color: transparent;\n",
              "      border-bottom-color: var(--fill-color);\n",
              "    }\n",
              "  }\n",
              "</style>\n",
              "\n",
              "  <script>\n",
              "    async function quickchart(key) {\n",
              "      const quickchartButtonEl =\n",
              "        document.querySelector('#' + key + ' button');\n",
              "      quickchartButtonEl.disabled = true;  // To prevent multiple clicks.\n",
              "      quickchartButtonEl.classList.add('colab-df-spinner');\n",
              "      try {\n",
              "        const charts = await google.colab.kernel.invokeFunction(\n",
              "            'suggestCharts', [key], {});\n",
              "      } catch (error) {\n",
              "        console.error('Error during call to suggestCharts:', error);\n",
              "      }\n",
              "      quickchartButtonEl.classList.remove('colab-df-spinner');\n",
              "      quickchartButtonEl.classList.add('colab-df-quickchart-complete');\n",
              "    }\n",
              "    (() => {\n",
              "      let quickchartButtonEl =\n",
              "        document.querySelector('#df-af95c095-a60f-4497-b483-6578c807854c button');\n",
              "      quickchartButtonEl.style.display =\n",
              "        google.colab.kernel.accessAllowed ? 'block' : 'none';\n",
              "    })();\n",
              "  </script>\n",
              "</div>\n",
              "    </div>\n",
              "  </div>\n"
            ]
          },
          "metadata": {},
          "execution_count": 77
        }
      ]
    },
    {
      "cell_type": "code",
      "source": [
        "print(\"shape of df:\", df.shape)\n",
        "print(\"dataframe columns:\", df.columns.to_list())"
      ],
      "metadata": {
        "colab": {
          "base_uri": "https://localhost:8080/"
        },
        "id": "hhLj1ZnnarFD",
        "outputId": "a3e47558-39eb-4f7b-c8b3-f20e3f6e729a"
      },
      "execution_count": 9,
      "outputs": [
        {
          "output_type": "stream",
          "name": "stdout",
          "text": [
            "shape of df: (48620, 12)\n",
            "dataframe columns: ['order_details_id', 'order_id', 'pizza_id', 'quantity', 'order_date', 'order_time', 'unit_price', 'total_price', 'pizza_size', 'pizza_category', 'pizza_ingredients', 'pizza_name']\n"
          ]
        }
      ]
    },
    {
      "cell_type": "code",
      "source": [
        "df.info()"
      ],
      "metadata": {
        "colab": {
          "base_uri": "https://localhost:8080/"
        },
        "id": "CeTMHdxPpe-2",
        "outputId": "fb5ef9dc-5714-4eb2-dfea-358ce520fc77"
      },
      "execution_count": 17,
      "outputs": [
        {
          "output_type": "stream",
          "name": "stdout",
          "text": [
            "<class 'pandas.core.frame.DataFrame'>\n",
            "RangeIndex: 48620 entries, 0 to 48619\n",
            "Data columns (total 12 columns):\n",
            " #   Column             Non-Null Count  Dtype         \n",
            "---  ------             --------------  -----         \n",
            " 0   order_details_id   48620 non-null  int64         \n",
            " 1   order_id           48620 non-null  int64         \n",
            " 2   pizza_id           48620 non-null  object        \n",
            " 3   quantity           48620 non-null  int64         \n",
            " 4   order_date         48620 non-null  datetime64[ns]\n",
            " 5   order_time         48620 non-null  object        \n",
            " 6   unit_price         48620 non-null  float64       \n",
            " 7   total_price        48620 non-null  float64       \n",
            " 8   pizza_size         48620 non-null  object        \n",
            " 9   pizza_category     48620 non-null  object        \n",
            " 10  pizza_ingredients  48620 non-null  object        \n",
            " 11  pizza_name         48620 non-null  object        \n",
            "dtypes: datetime64[ns](1), float64(2), int64(3), object(6)\n",
            "memory usage: 4.5+ MB\n"
          ]
        }
      ]
    },
    {
      "cell_type": "code",
      "source": [
        "#additional check for missing values\n",
        "df.isnull().sum() #no missing values was detected"
      ],
      "metadata": {
        "colab": {
          "base_uri": "https://localhost:8080/"
        },
        "id": "0_rEpQqVay4L",
        "outputId": "c56bd38e-d2d7-4538-9eeb-8d5749d3bbe7"
      },
      "execution_count": 16,
      "outputs": [
        {
          "output_type": "execute_result",
          "data": {
            "text/plain": [
              "order_details_id     0\n",
              "order_id             0\n",
              "pizza_id             0\n",
              "quantity             0\n",
              "order_date           0\n",
              "order_time           0\n",
              "unit_price           0\n",
              "total_price          0\n",
              "pizza_size           0\n",
              "pizza_category       0\n",
              "pizza_ingredients    0\n",
              "pizza_name           0\n",
              "dtype: int64"
            ]
          },
          "metadata": {},
          "execution_count": 16
        }
      ]
    },
    {
      "cell_type": "code",
      "source": [
        "#check for duplicates\n",
        "duplicates = df.duplicated()\n",
        "duplicate_rows = df[duplicates]\n",
        "len(duplicate_rows) #no duplicate rows was detected\n",
        "# df_no_redundancy = df.drop_duplicates()\n"
      ],
      "metadata": {
        "colab": {
          "base_uri": "https://localhost:8080/"
        },
        "id": "C13iH5gwoytg",
        "outputId": "005720f4-dc9d-4663-98f8-51536511940f"
      },
      "execution_count": 24,
      "outputs": [
        {
          "output_type": "execute_result",
          "data": {
            "text/plain": [
              "0"
            ]
          },
          "metadata": {},
          "execution_count": 24
        }
      ]
    },
    {
      "cell_type": "markdown",
      "source": [
        "## Combien de pizzas uniques (pizza_id distincts) y a-t-il dans le jeu dedonnées ?"
      ],
      "metadata": {
        "id": "SXcoelZTri5C"
      }
    },
    {
      "cell_type": "code",
      "source": [
        "pizza_unique = df['pizza_id'].unique()\n",
        "len(pizza_unique) # we have 91 unique pizzas comprising of various sizes, lets dig in and make sure there are no mistyping"
      ],
      "metadata": {
        "colab": {
          "base_uri": "https://localhost:8080/"
        },
        "id": "wEaCrHvNp6Aw",
        "outputId": "2926f4dd-03fb-497b-c102-1191d38c2e74"
      },
      "execution_count": 28,
      "outputs": [
        {
          "output_type": "execute_result",
          "data": {
            "text/plain": [
              "91"
            ]
          },
          "metadata": {},
          "execution_count": 28
        }
      ]
    },
    {
      "cell_type": "code",
      "source": [
        "pizza_unique_vc = df[\"pizza_id\"].value_counts().sort_index()\n",
        "print(pizza_unique_vc.head())"
      ],
      "metadata": {
        "colab": {
          "base_uri": "https://localhost:8080/"
        },
        "id": "BV0lRAitr1K9",
        "outputId": "e901faee-76b9-4667-fb55-738f72c886f7"
      },
      "execution_count": 39,
      "outputs": [
        {
          "output_type": "stream",
          "name": "stdout",
          "text": [
            "bbq_ckn_l        967\n",
            "bbq_ckn_m        926\n",
            "bbq_ckn_s        479\n",
            "big_meat_s      1811\n",
            "brie_carre_s     480\n",
            "Name: pizza_id, dtype: int64\n"
          ]
        }
      ]
    },
    {
      "cell_type": "code",
      "source": [
        "#no of unique pizza's without sizes\n",
        "pizza_unique_vc_wid = df[\"pizza_id\"].str.split(\"_\").str[:-1].str.join('_')"
      ],
      "metadata": {
        "id": "b8D8RJOcsnip"
      },
      "execution_count": 52,
      "outputs": []
    },
    {
      "cell_type": "code",
      "source": [
        "pizza_unique_vc_wid.value_counts().sort_index()"
      ],
      "metadata": {
        "colab": {
          "base_uri": "https://localhost:8080/"
        },
        "id": "30cM9Vk2w7lo",
        "outputId": "94ef75b8-d189-4e89-beea-0d1045d5c21d"
      },
      "execution_count": 61,
      "outputs": [
        {
          "output_type": "execute_result",
          "data": {
            "text/plain": [
              "bbq_ckn         2372\n",
              "big_meat        1811\n",
              "brie_carre       480\n",
              "calabrese        927\n",
              "cali_ckn        2302\n",
              "ckn_alfredo      980\n",
              "ckn_pesto        961\n",
              "classic_dlx     2416\n",
              "five_cheese     1359\n",
              "four_cheese     1850\n",
              "green_garden     987\n",
              "hawaiian        2370\n",
              "ital_cpcllo     1414\n",
              "ital_supr       1849\n",
              "ital_veggie      975\n",
              "mediterraneo     923\n",
              "mexicana        1456\n",
              "napolitana      1451\n",
              "pep_msh_pep     1342\n",
              "pepperoni       2369\n",
              "peppr_salami    1422\n",
              "prsc_argla      1428\n",
              "sicilian        1887\n",
              "soppressata      957\n",
              "southw_ckn      1885\n",
              "spicy_ital      1887\n",
              "spin_pesto       957\n",
              "spinach_fet     1432\n",
              "spinach_supr     940\n",
              "thai_ckn        2315\n",
              "the_greek       1406\n",
              "veggie_veg      1510\n",
              "Name: pizza_id, dtype: int64"
            ]
          },
          "metadata": {},
          "execution_count": 61
        }
      ]
    },
    {
      "cell_type": "code",
      "source": [
        "len(pizza_unique_vc_wid.unique()) # there are 32 unique pizza without the sizes been taken into consideration"
      ],
      "metadata": {
        "colab": {
          "base_uri": "https://localhost:8080/"
        },
        "id": "WM6H2RR4va_d",
        "outputId": "7ba4ea55-6d44-48b8-b4c2-52f536acc00d"
      },
      "execution_count": 56,
      "outputs": [
        {
          "output_type": "execute_result",
          "data": {
            "text/plain": [
              "32"
            ]
          },
          "metadata": {},
          "execution_count": 56
        }
      ]
    },
    {
      "cell_type": "markdown",
      "source": [
        "##b. Combien de commandes uniques (order_id distincts) figurent dans le jeude données ?"
      ],
      "metadata": {
        "id": "_EpnDLG6xtO7"
      }
    },
    {
      "cell_type": "code",
      "source": [
        "unique_order_ids = df[\"order_id\"].astype('category') #change first to object as it is a unique identifier\n"
      ],
      "metadata": {
        "id": "FldDlf3rvcUT"
      },
      "execution_count": 79,
      "outputs": []
    },
    {
      "cell_type": "code",
      "source": [
        "print(unique_order_ids.nunique()) # we have 21350 unique order id's in the dataset"
      ],
      "metadata": {
        "colab": {
          "base_uri": "https://localhost:8080/"
        },
        "id": "9jV2HGBAyIgT",
        "outputId": "ff9ce971-5887-43f7-c628-69a8a10cc534"
      },
      "execution_count": 80,
      "outputs": [
        {
          "output_type": "stream",
          "name": "stdout",
          "text": [
            "21350\n"
          ]
        }
      ]
    },
    {
      "cell_type": "code",
      "source": [
        "# Discover the range of unique values\n",
        "min_value = min(unique_order_ids)\n",
        "max_value = max(unique_order_ids)\n",
        "\n",
        "# Print the range of unique values\n",
        "print(f\"Range of unique values: {min_value} to {max_value}\")"
      ],
      "metadata": {
        "colab": {
          "base_uri": "https://localhost:8080/"
        },
        "id": "85AwCjbByJgw",
        "outputId": "bd52d8e7-1984-466c-b046-5836c5bb8945"
      },
      "execution_count": 81,
      "outputs": [
        {
          "output_type": "stream",
          "name": "stdout",
          "text": [
            "Range of unique values: 1 to 21350\n"
          ]
        }
      ]
    }
  ],
  "metadata": {
    "colab": {
      "provenance": [],
      "gpuType": "T4",
      "authorship_tag": "ABX9TyNUY5jJ1ur6JnfHTzYoNfoP"
    },
    "kernelspec": {
      "display_name": "Python 3",
      "name": "python3"
    },
    "language_info": {
      "name": "python"
    },
    "accelerator": "GPU"
  },
  "nbformat": 4,
  "nbformat_minor": 0
}